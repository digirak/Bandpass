{
 "metadata": {
  "name": "",
  "signature": "sha256:bcda67f0a8bb460bae39ca6eef3dbed40fad9fe0caef5e8d411e17ae6e4c130f"
 },
 "nbformat": 3,
 "nbformat_minor": 0,
 "worksheets": [
  {
   "cells": [
    {
     "cell_type": "code",
     "collapsed": false,
     "input": [
      "3.50*6*30\n",
      "d"
     ],
     "language": "python",
     "metadata": {},
     "outputs": []
    }
   ],
   "metadata": {}
  }
 ]
}